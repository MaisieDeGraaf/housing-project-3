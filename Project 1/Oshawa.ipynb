{
 "cells": [
  {
   "cell_type": "code",
   "execution_count": 1,
   "id": "d28ec504",
   "metadata": {},
   "outputs": [],
   "source": [
    "#Dependencies\n",
    "import pandas as pd\n",
    "from pathlib import Path\n",
    "import numpy as np\n",
    "import api_keys\n",
    "import json\n",
    "from pprint import pprint\n",
    "import requests\n",
    "from api_keys import apify_key"
   ]
  },
  {
   "cell_type": "markdown",
   "id": "1120607d",
   "metadata": {},
   "source": [
    "****<font size=\"5\">Population</font>****"
   ]
  },
  {
   "cell_type": "code",
   "execution_count": 2,
   "id": "25658703",
   "metadata": {},
   "outputs": [
    {
     "name": "stdout",
     "output_type": "stream",
     "text": [
      "175383 and 159458\n"
     ]
    }
   ],
   "source": [
    "#Listing all my paths\n",
    "data = Path(\"Resources/2016 - 2021 Population - Oshawa.csv\")\n",
    "\n",
    "#Read the csv file\n",
    "df = pd.read_csv(data)\n",
    "oshawa_pop_2021 = df.index[3][3]\n",
    "oshawa_pop_2016 = df.index[4][3]\n",
    "print(oshawa_pop_2021+\" \"+\"and\"+\" \"+oshawa_pop_2016)"
   ]
  },
  {
   "cell_type": "code",
   "execution_count": 3,
   "id": "ac49936a",
   "metadata": {},
   "outputs": [
    {
     "data": {
      "text/html": [
       "<div>\n",
       "<style scoped>\n",
       "    .dataframe tbody tr th:only-of-type {\n",
       "        vertical-align: middle;\n",
       "    }\n",
       "\n",
       "    .dataframe tbody tr th {\n",
       "        vertical-align: top;\n",
       "    }\n",
       "\n",
       "    .dataframe thead th {\n",
       "        text-align: right;\n",
       "    }\n",
       "</style>\n",
       "<table border=\"1\" class=\"dataframe\">\n",
       "  <thead>\n",
       "    <tr style=\"text-align: right;\">\n",
       "      <th></th>\n",
       "      <th></th>\n",
       "      <th>Population</th>\n",
       "    </tr>\n",
       "    <tr>\n",
       "      <th>City</th>\n",
       "      <th>Year</th>\n",
       "      <th></th>\n",
       "    </tr>\n",
       "  </thead>\n",
       "  <tbody>\n",
       "    <tr>\n",
       "      <th rowspan=\"2\" valign=\"top\">Oshawa</th>\n",
       "      <th>2016</th>\n",
       "      <td>159458</td>\n",
       "    </tr>\n",
       "    <tr>\n",
       "      <th>2021</th>\n",
       "      <td>175383</td>\n",
       "    </tr>\n",
       "  </tbody>\n",
       "</table>\n",
       "</div>"
      ],
      "text/plain": [
       "             Population\n",
       "City   Year            \n",
       "Oshawa 2016      159458\n",
       "        2021     175383"
      ]
     },
     "execution_count": 3,
     "metadata": {},
     "output_type": "execute_result"
    }
   ],
   "source": [
    "\n",
    "#Create a MultiIndex using an Index and a column:\n",
    "\n",
    "Oshawa_df = pd.DataFrame({'City': ['Oshawa', 'Oshawa' ],\n",
    "                          'Year': ['2016',' 2021'],\n",
    "                          'Population': [oshawa_pop_2016, oshawa_pop_2021,],\n",
    "                         })\n",
    "Oshawa_df = Oshawa_df.set_index(['City', 'Year'])\n",
    "Oshawa_df"
   ]
  },
  {
   "cell_type": "markdown",
   "id": "c9d5a03d",
   "metadata": {},
   "source": [
    "****<font size=\"5\">Household Income</font>****"
   ]
  },
  {
   "cell_type": "code",
   "execution_count": 4,
   "id": "b87d9184",
   "metadata": {},
   "outputs": [
    {
     "data": {
      "text/plain": [
       "'   70211'"
      ]
     },
     "execution_count": 4,
     "metadata": {},
     "output_type": "execute_result"
    }
   ],
   "source": [
    "#Listing all my paths\n",
    "data_2016 = Path(\"Resources/2016 Household Income (stat can) - Oshawa.csv\")\n",
    "\n",
    "#Read the csv file\n",
    "df_2016 = pd.read_csv(data_2016, encoding = \"ISO-8859-1\")\n",
    "oshawa_income_2016 = df_2016.index[83][3]\n",
    "oshawa_income_2016"
   ]
  },
  {
   "cell_type": "code",
   "execution_count": 5,
   "id": "a24f3a86",
   "metadata": {},
   "outputs": [
    {
     "data": {
      "text/plain": [
       "' 86000'"
      ]
     },
     "execution_count": 5,
     "metadata": {},
     "output_type": "execute_result"
    }
   ],
   "source": [
    "#Listing all my paths\n",
    "data_2021 = Path(\"Resources/2021 Household Income (stat can) - Oshawa.csv\")\n",
    "\n",
    "#Read the csv file\n",
    "df_2021 = pd.read_csv(data_2021, encoding = \"ISO-8859-1\")\n",
    "oshawa_income_2021 = df_2021.index[4][3]\n",
    "oshawa_income_2021"
   ]
  },
  {
   "cell_type": "code",
   "execution_count": 6,
   "id": "6a8eec77",
   "metadata": {},
   "outputs": [
    {
     "data": {
      "text/html": [
       "<div>\n",
       "<style scoped>\n",
       "    .dataframe tbody tr th:only-of-type {\n",
       "        vertical-align: middle;\n",
       "    }\n",
       "\n",
       "    .dataframe tbody tr th {\n",
       "        vertical-align: top;\n",
       "    }\n",
       "\n",
       "    .dataframe thead th {\n",
       "        text-align: right;\n",
       "    }\n",
       "</style>\n",
       "<table border=\"1\" class=\"dataframe\">\n",
       "  <thead>\n",
       "    <tr style=\"text-align: right;\">\n",
       "      <th></th>\n",
       "      <th></th>\n",
       "      <th>Population</th>\n",
       "      <th>Household Income ($)</th>\n",
       "    </tr>\n",
       "    <tr>\n",
       "      <th>City</th>\n",
       "      <th>Year</th>\n",
       "      <th></th>\n",
       "      <th></th>\n",
       "    </tr>\n",
       "  </thead>\n",
       "  <tbody>\n",
       "    <tr>\n",
       "      <th rowspan=\"2\" valign=\"top\">Oshawa</th>\n",
       "      <th>2016</th>\n",
       "      <td>159458</td>\n",
       "      <td>70211</td>\n",
       "    </tr>\n",
       "    <tr>\n",
       "      <th>2021</th>\n",
       "      <td>175383</td>\n",
       "      <td>86000</td>\n",
       "    </tr>\n",
       "  </tbody>\n",
       "</table>\n",
       "</div>"
      ],
      "text/plain": [
       "             Population Household Income ($)\n",
       "City   Year                                 \n",
       "Oshawa 2016      159458                70211\n",
       "        2021     175383                86000"
      ]
     },
     "execution_count": 6,
     "metadata": {},
     "output_type": "execute_result"
    }
   ],
   "source": [
    "#Adding to the df\n",
    "Oshawa_df[\"Household Income ($)\"] = [oshawa_income_2016,oshawa_income_2021]\n",
    "Oshawa_df"
   ]
  },
  {
   "cell_type": "markdown",
   "id": "64d68d25",
   "metadata": {},
   "source": [
    "****<font size=\"5\">Average and Median Rent</font>****"
   ]
  },
  {
   "cell_type": "code",
   "execution_count": 7,
   "id": "8d5ce1af",
   "metadata": {},
   "outputs": [
    {
     "name": "stdout",
     "output_type": "stream",
     "text": [
      "    1070 and     1015\n"
     ]
    }
   ],
   "source": [
    "#Listing all my paths\n",
    "data_2016 = Path(\"Resources/2016 Owned vs Rented - Oshawa.csv\")\n",
    "\n",
    "#Read the csv file\n",
    "df_2016 = pd.read_csv(data_2016, encoding = \"ISO-8859-1\")\n",
    "oshawa_average_rent_2016 = df_2016.index[67][3]\n",
    "oshawa_median_rent_2016 = df_2016.index[66][3]\n",
    "print(f'{oshawa_average_rent_2016} and {oshawa_median_rent_2016}')"
   ]
  },
  {
   "cell_type": "code",
   "execution_count": 8,
   "id": "fdc2e7be",
   "metadata": {},
   "outputs": [
    {
     "name": "stdout",
     "output_type": "stream",
     "text": [
      "  1400 and   1300\n"
     ]
    }
   ],
   "source": [
    "#Listing all my paths\n",
    "data_2021 = Path(\"Resources/2021 Owned vs Rented - Oshawa.csv\")\n",
    "\n",
    "#Read the csv file\n",
    "df_2021 = pd.read_csv(data_2021, encoding = \"ISO-8859-1\")\n",
    "oshawa_average_rent_2021 = df_2021.index[84][3]\n",
    "oshawa_median_rent_2021 = df_2021.index[83][3]\n",
    "print(f'{oshawa_average_rent_2021} and {oshawa_median_rent_2021}')"
   ]
  },
  {
   "cell_type": "code",
   "execution_count": 9,
   "id": "0f9c22b1",
   "metadata": {},
   "outputs": [
    {
     "data": {
      "text/html": [
       "<div>\n",
       "<style scoped>\n",
       "    .dataframe tbody tr th:only-of-type {\n",
       "        vertical-align: middle;\n",
       "    }\n",
       "\n",
       "    .dataframe tbody tr th {\n",
       "        vertical-align: top;\n",
       "    }\n",
       "\n",
       "    .dataframe thead th {\n",
       "        text-align: right;\n",
       "    }\n",
       "</style>\n",
       "<table border=\"1\" class=\"dataframe\">\n",
       "  <thead>\n",
       "    <tr style=\"text-align: right;\">\n",
       "      <th></th>\n",
       "      <th></th>\n",
       "      <th>Population</th>\n",
       "      <th>Household Income ($)</th>\n",
       "      <th>Average Rent ($)</th>\n",
       "      <th>Median Rent ($)</th>\n",
       "    </tr>\n",
       "    <tr>\n",
       "      <th>City</th>\n",
       "      <th>Year</th>\n",
       "      <th></th>\n",
       "      <th></th>\n",
       "      <th></th>\n",
       "      <th></th>\n",
       "    </tr>\n",
       "  </thead>\n",
       "  <tbody>\n",
       "    <tr>\n",
       "      <th rowspan=\"2\" valign=\"top\">Oshawa</th>\n",
       "      <th>2016</th>\n",
       "      <td>159458</td>\n",
       "      <td>70211</td>\n",
       "      <td>1070</td>\n",
       "      <td>1015</td>\n",
       "    </tr>\n",
       "    <tr>\n",
       "      <th>2021</th>\n",
       "      <td>175383</td>\n",
       "      <td>86000</td>\n",
       "      <td>1400</td>\n",
       "      <td>1300</td>\n",
       "    </tr>\n",
       "  </tbody>\n",
       "</table>\n",
       "</div>"
      ],
      "text/plain": [
       "             Population Household Income ($) Average Rent ($) Median Rent ($)\n",
       "City   Year                                                                  \n",
       "Oshawa 2016      159458                70211             1070            1015\n",
       "        2021     175383                86000             1400            1300"
      ]
     },
     "execution_count": 9,
     "metadata": {},
     "output_type": "execute_result"
    }
   ],
   "source": [
    "#Adding to the df\n",
    "Oshawa_df[\"Average Rent ($)\"] = [oshawa_average_rent_2016,oshawa_average_rent_2021]\n",
    "Oshawa_df[\"Median Rent ($)\"] = [oshawa_median_rent_2016,oshawa_median_rent_2021]\n",
    "Oshawa_df"
   ]
  },
  {
   "cell_type": "markdown",
   "id": "a16f0157",
   "metadata": {},
   "source": [
    "****<font size=\"5\">Estimated House Value</font>****"
   ]
  },
  {
   "cell_type": "code",
   "execution_count": 10,
   "id": "95624f4f",
   "metadata": {},
   "outputs": [
    {
     "data": {
      "text/plain": [
       "397934.0"
      ]
     },
     "execution_count": 10,
     "metadata": {},
     "output_type": "execute_result"
    }
   ],
   "source": [
    "#Listing all my paths\n",
    "data_2016 = Path(\"Resources/2016 Owned vs Rented - Oshawa.csv\")\n",
    "\n",
    "#Read the csv file\n",
    "df_2016 = pd.read_csv(data_2016, encoding = \"ISO-8859-1\",skiprows=[0,1])\n",
    "oshawa_value_2016 = df_2016.index[60][3]\n",
    "oshawa_value_2016"
   ]
  },
  {
   "cell_type": "code",
   "execution_count": 11,
   "id": "9dfe2344",
   "metadata": {
    "scrolled": true
   },
   "outputs": [
    {
     "data": {
      "text/plain": [
       "'705000'"
      ]
     },
     "execution_count": 11,
     "metadata": {},
     "output_type": "execute_result"
    }
   ],
   "source": [
    "#Listing all my paths\n",
    "data_2021 = Path(\"Resources/2021 Owned vs Rented - Oshawa.csv\")\n",
    "\n",
    "#Read the csv file\n",
    "df_2021 = pd.read_csv(data_2021, encoding = \"ISO-8859-1\",skiprows=[0,1])\n",
    "oshawa_value_2021 = df_2021.iloc[76][3]\n",
    "oshawa_value_2021"
   ]
  },
  {
   "cell_type": "code",
   "execution_count": 12,
   "id": "191dc2cf",
   "metadata": {},
   "outputs": [
    {
     "data": {
      "text/html": [
       "<div>\n",
       "<style scoped>\n",
       "    .dataframe tbody tr th:only-of-type {\n",
       "        vertical-align: middle;\n",
       "    }\n",
       "\n",
       "    .dataframe tbody tr th {\n",
       "        vertical-align: top;\n",
       "    }\n",
       "\n",
       "    .dataframe thead th {\n",
       "        text-align: right;\n",
       "    }\n",
       "</style>\n",
       "<table border=\"1\" class=\"dataframe\">\n",
       "  <thead>\n",
       "    <tr style=\"text-align: right;\">\n",
       "      <th></th>\n",
       "      <th></th>\n",
       "      <th>Population</th>\n",
       "      <th>Household Income ($)</th>\n",
       "      <th>Average Rent ($)</th>\n",
       "      <th>Median Rent ($)</th>\n",
       "      <th>Estimated House Value ($)</th>\n",
       "    </tr>\n",
       "    <tr>\n",
       "      <th>City</th>\n",
       "      <th>Year</th>\n",
       "      <th></th>\n",
       "      <th></th>\n",
       "      <th></th>\n",
       "      <th></th>\n",
       "      <th></th>\n",
       "    </tr>\n",
       "  </thead>\n",
       "  <tbody>\n",
       "    <tr>\n",
       "      <th rowspan=\"2\" valign=\"top\">Oshawa</th>\n",
       "      <th>2016</th>\n",
       "      <td>159458</td>\n",
       "      <td>70211</td>\n",
       "      <td>1070</td>\n",
       "      <td>1015</td>\n",
       "      <td>397934.0</td>\n",
       "    </tr>\n",
       "    <tr>\n",
       "      <th>2021</th>\n",
       "      <td>175383</td>\n",
       "      <td>86000</td>\n",
       "      <td>1400</td>\n",
       "      <td>1300</td>\n",
       "      <td>705000</td>\n",
       "    </tr>\n",
       "  </tbody>\n",
       "</table>\n",
       "</div>"
      ],
      "text/plain": [
       "             Population Household Income ($) Average Rent ($) Median Rent ($)  \\\n",
       "City   Year                                                                     \n",
       "Oshawa 2016      159458                70211             1070            1015   \n",
       "        2021     175383                86000             1400            1300   \n",
       "\n",
       "             Estimated House Value ($)  \n",
       "City   Year                             \n",
       "Oshawa 2016                   397934.0  \n",
       "        2021                    705000  "
      ]
     },
     "execution_count": 12,
     "metadata": {},
     "output_type": "execute_result"
    }
   ],
   "source": [
    "#Adding to the df\n",
    "Oshawa_df[\"Estimated House Value ($)\"] = [oshawa_value_2016,oshawa_value_2021]\n",
    "Oshawa_df"
   ]
  },
  {
   "cell_type": "markdown",
   "id": "677395e2",
   "metadata": {},
   "source": [
    "**<font size=\"5\">Unemployment rate</font>**"
   ]
  },
  {
   "cell_type": "code",
   "execution_count": 13,
   "id": "6d8fd66e",
   "metadata": {
    "scrolled": false
   },
   "outputs": [
    {
     "data": {
      "text/plain": [
       "'  9.8'"
      ]
     },
     "execution_count": 13,
     "metadata": {},
     "output_type": "execute_result"
    }
   ],
   "source": [
    "#Listing all my paths\n",
    "data_2016 = Path(\"Resources/2016 Employment - Oshawa.csv\")\n",
    "\n",
    "#Read the csv file\n",
    "df_2016 = pd.read_csv(data_2016, encoding = \"ISO-8859-1\")\n",
    "oshawa_unemploymentr_2016 = df_2016.index[9][3]\n",
    "oshawa_unemploymentr_2016"
   ]
  },
  {
   "cell_type": "code",
   "execution_count": 14,
   "id": "127f6871",
   "metadata": {},
   "outputs": [
    {
     "data": {
      "text/plain": [
       "'   15.2'"
      ]
     },
     "execution_count": 14,
     "metadata": {},
     "output_type": "execute_result"
    }
   ],
   "source": [
    "#Listing all my paths\n",
    "data_2021 = Path(\"Resources/2021 Employment - Oshawa.csv\")\n",
    "\n",
    "#Read the csv file\n",
    "df_2021 = pd.read_csv(data_2021, encoding = \"ISO-8859-1\")\n",
    "oshawa_unemploymentr_2021 = df_2021.index[10][3]\n",
    "oshawa_unemploymentr_2021"
   ]
  },
  {
   "cell_type": "code",
   "execution_count": 15,
   "id": "dc7ae84b",
   "metadata": {},
   "outputs": [
    {
     "data": {
      "text/html": [
       "<div>\n",
       "<style scoped>\n",
       "    .dataframe tbody tr th:only-of-type {\n",
       "        vertical-align: middle;\n",
       "    }\n",
       "\n",
       "    .dataframe tbody tr th {\n",
       "        vertical-align: top;\n",
       "    }\n",
       "\n",
       "    .dataframe thead th {\n",
       "        text-align: right;\n",
       "    }\n",
       "</style>\n",
       "<table border=\"1\" class=\"dataframe\">\n",
       "  <thead>\n",
       "    <tr style=\"text-align: right;\">\n",
       "      <th></th>\n",
       "      <th></th>\n",
       "      <th>Population</th>\n",
       "      <th>Household Income ($)</th>\n",
       "      <th>Average Rent ($)</th>\n",
       "      <th>Median Rent ($)</th>\n",
       "      <th>Estimated House Value ($)</th>\n",
       "      <th>Unemployment Rate (%)</th>\n",
       "    </tr>\n",
       "    <tr>\n",
       "      <th>City</th>\n",
       "      <th>Year</th>\n",
       "      <th></th>\n",
       "      <th></th>\n",
       "      <th></th>\n",
       "      <th></th>\n",
       "      <th></th>\n",
       "      <th></th>\n",
       "    </tr>\n",
       "  </thead>\n",
       "  <tbody>\n",
       "    <tr>\n",
       "      <th rowspan=\"2\" valign=\"top\">Oshawa</th>\n",
       "      <th>2016</th>\n",
       "      <td>159458</td>\n",
       "      <td>70211</td>\n",
       "      <td>1070</td>\n",
       "      <td>1015</td>\n",
       "      <td>397934.0</td>\n",
       "      <td>9.8</td>\n",
       "    </tr>\n",
       "    <tr>\n",
       "      <th>2021</th>\n",
       "      <td>175383</td>\n",
       "      <td>86000</td>\n",
       "      <td>1400</td>\n",
       "      <td>1300</td>\n",
       "      <td>705000</td>\n",
       "      <td>15.2</td>\n",
       "    </tr>\n",
       "  </tbody>\n",
       "</table>\n",
       "</div>"
      ],
      "text/plain": [
       "             Population Household Income ($) Average Rent ($) Median Rent ($)  \\\n",
       "City   Year                                                                     \n",
       "Oshawa 2016      159458                70211             1070            1015   \n",
       "        2021     175383                86000             1400            1300   \n",
       "\n",
       "             Estimated House Value ($) Unemployment Rate (%)  \n",
       "City   Year                                                   \n",
       "Oshawa 2016                   397934.0                   9.8  \n",
       "        2021                    705000                  15.2  "
      ]
     },
     "execution_count": 15,
     "metadata": {},
     "output_type": "execute_result"
    }
   ],
   "source": [
    "#Adding to the df\n",
    "Oshawa_df[\"Unemployment Rate (%)\"] = [oshawa_unemploymentr_2016,oshawa_unemploymentr_2021]\n",
    "Oshawa_df"
   ]
  },
  {
   "cell_type": "markdown",
   "id": "cef78f0f",
   "metadata": {},
   "source": [
    "**<font size=\"5\">Property Tax</font>**"
   ]
  },
  {
   "cell_type": "code",
   "execution_count": 16,
   "id": "8129b51a",
   "metadata": {},
   "outputs": [
    {
     "data": {
      "text/plain": [
       "1.561085"
      ]
     },
     "execution_count": 16,
     "metadata": {},
     "output_type": "execute_result"
    }
   ],
   "source": [
    "#Small note : tax = House Value * tax rate\n",
    "#Listing all my paths\n",
    "data_2016 = Path(\"Resources/2016 Property Tax Rates-Oshawa.csv\")\n",
    "\n",
    "#Read the csv file\n",
    "df_2016 = pd.read_csv(data_2016, encoding = \"ISO-8859-1\", on_bad_lines = \"skip\", sep = \";\")\n",
    "df_2016 = df_2016.loc[df_2016[\"Municipality\"] == \"Oshawa\"]\n",
    "oshawa_taxr_2016 = df_2016.iloc[0][4]\n",
    "oshawa_taxr_2016"
   ]
  },
  {
   "cell_type": "code",
   "execution_count": 17,
   "id": "2eedad24",
   "metadata": {},
   "outputs": [
    {
     "data": {
      "text/plain": [
       "'1.304741'"
      ]
     },
     "execution_count": 17,
     "metadata": {},
     "output_type": "execute_result"
    }
   ],
   "source": [
    "#Small note : tax = House Value * tax rate\n",
    "#Listing all my paths\n",
    "data_2021 = Path(\"Resources/2021 Property Tax Rates-Oshawa.csv\")\n",
    "\n",
    "#Read the csv file\n",
    "df_2021 = pd.read_csv(data_2021, encoding = \"ISO-8859-1\", on_bad_lines = \"skip\", sep = \";\")\n",
    "oshawa_taxr_2021 = df_2021.iloc[3][3]\n",
    "oshawa_taxr_2021"
   ]
  },
  {
   "cell_type": "code",
   "execution_count": 18,
   "id": "4f9ae622",
   "metadata": {},
   "outputs": [
    {
     "data": {
      "text/html": [
       "<div>\n",
       "<style scoped>\n",
       "    .dataframe tbody tr th:only-of-type {\n",
       "        vertical-align: middle;\n",
       "    }\n",
       "\n",
       "    .dataframe tbody tr th {\n",
       "        vertical-align: top;\n",
       "    }\n",
       "\n",
       "    .dataframe thead th {\n",
       "        text-align: right;\n",
       "    }\n",
       "</style>\n",
       "<table border=\"1\" class=\"dataframe\">\n",
       "  <thead>\n",
       "    <tr style=\"text-align: right;\">\n",
       "      <th></th>\n",
       "      <th></th>\n",
       "      <th>Population</th>\n",
       "      <th>Household Income ($)</th>\n",
       "      <th>Average Rent ($)</th>\n",
       "      <th>Median Rent ($)</th>\n",
       "      <th>Estimated House Value ($)</th>\n",
       "      <th>Unemployment Rate (%)</th>\n",
       "      <th>Property Tax Rate (%)</th>\n",
       "    </tr>\n",
       "    <tr>\n",
       "      <th>City</th>\n",
       "      <th>Year</th>\n",
       "      <th></th>\n",
       "      <th></th>\n",
       "      <th></th>\n",
       "      <th></th>\n",
       "      <th></th>\n",
       "      <th></th>\n",
       "      <th></th>\n",
       "    </tr>\n",
       "  </thead>\n",
       "  <tbody>\n",
       "    <tr>\n",
       "      <th rowspan=\"2\" valign=\"top\">Oshawa</th>\n",
       "      <th>2016</th>\n",
       "      <td>159458</td>\n",
       "      <td>70211</td>\n",
       "      <td>1070</td>\n",
       "      <td>1015</td>\n",
       "      <td>397934.0</td>\n",
       "      <td>9.8</td>\n",
       "      <td>1.561085</td>\n",
       "    </tr>\n",
       "    <tr>\n",
       "      <th>2021</th>\n",
       "      <td>175383</td>\n",
       "      <td>86000</td>\n",
       "      <td>1400</td>\n",
       "      <td>1300</td>\n",
       "      <td>705000</td>\n",
       "      <td>15.2</td>\n",
       "      <td>1.304741</td>\n",
       "    </tr>\n",
       "  </tbody>\n",
       "</table>\n",
       "</div>"
      ],
      "text/plain": [
       "             Population Household Income ($) Average Rent ($) Median Rent ($)  \\\n",
       "City   Year                                                                     \n",
       "Oshawa 2016      159458                70211             1070            1015   \n",
       "        2021     175383                86000             1400            1300   \n",
       "\n",
       "             Estimated House Value ($) Unemployment Rate (%)  \\\n",
       "City   Year                                                    \n",
       "Oshawa 2016                   397934.0                   9.8   \n",
       "        2021                    705000                  15.2   \n",
       "\n",
       "             Property Tax Rate (%)  \n",
       "City   Year                         \n",
       "Oshawa 2016               1.561085  \n",
       "        2021              1.304741  "
      ]
     },
     "execution_count": 18,
     "metadata": {},
     "output_type": "execute_result"
    }
   ],
   "source": [
    "#Adding to the df\n",
    "Oshawa_df[\"Property Tax Rate (%)\"] = [oshawa_taxr_2016,oshawa_taxr_2021]\n",
    "Oshawa_df"
   ]
  },
  {
   "cell_type": "markdown",
   "id": "80929ba5",
   "metadata": {},
   "source": [
    "**<font size=\"5\">Rented & Owned Houses</font>**"
   ]
  },
  {
   "cell_type": "code",
   "execution_count": 19,
   "id": "c20d535e",
   "metadata": {},
   "outputs": [
    {
     "name": "stdout",
     "output_type": "stream",
     "text": [
      "   42875 and    19720\n"
     ]
    }
   ],
   "source": [
    "#Listing all my paths\n",
    "data_2016 = Path(\"Resources/2016 Owned vs Rented - Oshawa.csv\")\n",
    "\n",
    "#Read the csv file\n",
    "df_2016 = pd.read_csv(data_2016, encoding = \"ISO-8859-1\")\n",
    "oshawa_owned_2016 = df_2016.index[3][3]\n",
    "oshawa_rented_2016 = df_2016.index[4][3]\n",
    "print(f'{oshawa_owned_2016} and {oshawa_rented_2016}')"
   ]
  },
  {
   "cell_type": "code",
   "execution_count": 20,
   "id": "ce6a1432",
   "metadata": {},
   "outputs": [
    {
     "name": "stdout",
     "output_type": "stream",
     "text": [
      " 42750 and  23880\n"
     ]
    }
   ],
   "source": [
    "#Listing all my paths\n",
    "data_2021 = Path(\"Resources/2021 Owned vs Rented - Oshawa.csv\")\n",
    "\n",
    "#Read the csv file\n",
    "df_2021 = pd.read_csv(data_2021, encoding = \"ISO-8859-1\")\n",
    "oshawa_owned_2021 = df_2021.index[4][3]\n",
    "oshawa_rented_2021 = df_2021.index[5][3]\n",
    "print(f'{oshawa_owned_2021} and {oshawa_rented_2021}')"
   ]
  },
  {
   "cell_type": "code",
   "execution_count": 21,
   "id": "01ccc094",
   "metadata": {},
   "outputs": [
    {
     "data": {
      "text/html": [
       "<div>\n",
       "<style scoped>\n",
       "    .dataframe tbody tr th:only-of-type {\n",
       "        vertical-align: middle;\n",
       "    }\n",
       "\n",
       "    .dataframe tbody tr th {\n",
       "        vertical-align: top;\n",
       "    }\n",
       "\n",
       "    .dataframe thead th {\n",
       "        text-align: right;\n",
       "    }\n",
       "</style>\n",
       "<table border=\"1\" class=\"dataframe\">\n",
       "  <thead>\n",
       "    <tr style=\"text-align: right;\">\n",
       "      <th></th>\n",
       "      <th></th>\n",
       "      <th>Population</th>\n",
       "      <th>Household Income ($)</th>\n",
       "      <th>Average Rent ($)</th>\n",
       "      <th>Median Rent ($)</th>\n",
       "      <th>Estimated House Value ($)</th>\n",
       "      <th>Unemployment Rate (%)</th>\n",
       "      <th>Property Tax Rate (%)</th>\n",
       "      <th>Rented Houses</th>\n",
       "      <th>Owned Houses</th>\n",
       "    </tr>\n",
       "    <tr>\n",
       "      <th>City</th>\n",
       "      <th>Year</th>\n",
       "      <th></th>\n",
       "      <th></th>\n",
       "      <th></th>\n",
       "      <th></th>\n",
       "      <th></th>\n",
       "      <th></th>\n",
       "      <th></th>\n",
       "      <th></th>\n",
       "      <th></th>\n",
       "    </tr>\n",
       "  </thead>\n",
       "  <tbody>\n",
       "    <tr>\n",
       "      <th rowspan=\"2\" valign=\"top\">Oshawa</th>\n",
       "      <th>2016</th>\n",
       "      <td>159458</td>\n",
       "      <td>70211</td>\n",
       "      <td>1070</td>\n",
       "      <td>1015</td>\n",
       "      <td>397934.0</td>\n",
       "      <td>9.8</td>\n",
       "      <td>1.561085</td>\n",
       "      <td>19720</td>\n",
       "      <td>42875</td>\n",
       "    </tr>\n",
       "    <tr>\n",
       "      <th>2021</th>\n",
       "      <td>175383</td>\n",
       "      <td>86000</td>\n",
       "      <td>1400</td>\n",
       "      <td>1300</td>\n",
       "      <td>705000</td>\n",
       "      <td>15.2</td>\n",
       "      <td>1.304741</td>\n",
       "      <td>23880</td>\n",
       "      <td>42750</td>\n",
       "    </tr>\n",
       "  </tbody>\n",
       "</table>\n",
       "</div>"
      ],
      "text/plain": [
       "             Population Household Income ($) Average Rent ($) Median Rent ($)  \\\n",
       "City   Year                                                                     \n",
       "Oshawa 2016      159458                70211             1070            1015   \n",
       "        2021     175383                86000             1400            1300   \n",
       "\n",
       "             Estimated House Value ($) Unemployment Rate (%)  \\\n",
       "City   Year                                                    \n",
       "Oshawa 2016                   397934.0                   9.8   \n",
       "        2021                    705000                  15.2   \n",
       "\n",
       "             Property Tax Rate (%) Rented Houses Owned Houses  \n",
       "City   Year                                                    \n",
       "Oshawa 2016               1.561085         19720        42875  \n",
       "        2021              1.304741         23880        42750  "
      ]
     },
     "execution_count": 21,
     "metadata": {},
     "output_type": "execute_result"
    }
   ],
   "source": [
    "#Adding to the df\n",
    "Oshawa_df[\"Rented Houses\"] = [oshawa_rented_2016,oshawa_rented_2021]\n",
    "Oshawa_df[\"Owned Houses\"] = [oshawa_owned_2016,oshawa_owned_2021]\n",
    "Oshawa_df"
   ]
  },
  {
   "cell_type": "markdown",
   "id": "3b722932",
   "metadata": {},
   "source": [
    "**<font size=\"5\">New Housing Built</font>**"
   ]
  },
  {
   "cell_type": "code",
   "execution_count": 22,
   "id": "570c6f77",
   "metadata": {},
   "outputs": [
    {
     "data": {
      "text/plain": [
       "834"
      ]
     },
     "execution_count": 22,
     "metadata": {},
     "output_type": "execute_result"
    }
   ],
   "source": [
    "#Listing all my paths\n",
    "data_2016 = Path(\"Resources/2016 New Built - Oshawa.xlsx\")\n",
    "\n",
    "#Read the xlsx file\n",
    "df_2016 = pd.read_excel(data_2016, skiprows= [0,1,2,3])\n",
    "oshawa_new__2016 = df_2016.iloc[509][7]\n",
    "oshawa_new__2016"
   ]
  },
  {
   "cell_type": "code",
   "execution_count": 23,
   "id": "8de9b576",
   "metadata": {},
   "outputs": [
    {
     "data": {
      "text/plain": [
       "1416"
      ]
     },
     "execution_count": 23,
     "metadata": {},
     "output_type": "execute_result"
    }
   ],
   "source": [
    "#Listing all my paths\n",
    "data_2021 = Path(\"Resources/2021 New Built - Oshawa.xlsx\")\n",
    "\n",
    "#Read the xlsx file\n",
    "df_2021 = pd.read_excel(data_2021, skiprows= [0,1,2,3])\n",
    "oshawa_new__2021 = df_2021.iloc[540][7]\n",
    "oshawa_new__2021"
   ]
  },
  {
   "cell_type": "code",
   "execution_count": 24,
   "id": "b8ad3baa",
   "metadata": {},
   "outputs": [
    {
     "data": {
      "text/html": [
       "<div>\n",
       "<style scoped>\n",
       "    .dataframe tbody tr th:only-of-type {\n",
       "        vertical-align: middle;\n",
       "    }\n",
       "\n",
       "    .dataframe tbody tr th {\n",
       "        vertical-align: top;\n",
       "    }\n",
       "\n",
       "    .dataframe thead th {\n",
       "        text-align: right;\n",
       "    }\n",
       "</style>\n",
       "<table border=\"1\" class=\"dataframe\">\n",
       "  <thead>\n",
       "    <tr style=\"text-align: right;\">\n",
       "      <th></th>\n",
       "      <th></th>\n",
       "      <th>Population</th>\n",
       "      <th>Household Income ($)</th>\n",
       "      <th>Average Rent ($)</th>\n",
       "      <th>Median Rent ($)</th>\n",
       "      <th>Estimated House Value ($)</th>\n",
       "      <th>Unemployment Rate (%)</th>\n",
       "      <th>Property Tax Rate (%)</th>\n",
       "      <th>Rented Houses</th>\n",
       "      <th>Owned Houses</th>\n",
       "      <th>New Built</th>\n",
       "    </tr>\n",
       "    <tr>\n",
       "      <th>City</th>\n",
       "      <th>Year</th>\n",
       "      <th></th>\n",
       "      <th></th>\n",
       "      <th></th>\n",
       "      <th></th>\n",
       "      <th></th>\n",
       "      <th></th>\n",
       "      <th></th>\n",
       "      <th></th>\n",
       "      <th></th>\n",
       "      <th></th>\n",
       "    </tr>\n",
       "  </thead>\n",
       "  <tbody>\n",
       "    <tr>\n",
       "      <th rowspan=\"2\" valign=\"top\">Oshawa</th>\n",
       "      <th>2016</th>\n",
       "      <td>159458</td>\n",
       "      <td>70211</td>\n",
       "      <td>1070</td>\n",
       "      <td>1015</td>\n",
       "      <td>397934.0</td>\n",
       "      <td>9.8</td>\n",
       "      <td>1.561085</td>\n",
       "      <td>19720</td>\n",
       "      <td>42875</td>\n",
       "      <td>834</td>\n",
       "    </tr>\n",
       "    <tr>\n",
       "      <th>2021</th>\n",
       "      <td>175383</td>\n",
       "      <td>86000</td>\n",
       "      <td>1400</td>\n",
       "      <td>1300</td>\n",
       "      <td>705000</td>\n",
       "      <td>15.2</td>\n",
       "      <td>1.304741</td>\n",
       "      <td>23880</td>\n",
       "      <td>42750</td>\n",
       "      <td>1416</td>\n",
       "    </tr>\n",
       "  </tbody>\n",
       "</table>\n",
       "</div>"
      ],
      "text/plain": [
       "             Population Household Income ($) Average Rent ($) Median Rent ($)  \\\n",
       "City   Year                                                                     \n",
       "Oshawa 2016      159458                70211             1070            1015   \n",
       "        2021     175383                86000             1400            1300   \n",
       "\n",
       "             Estimated House Value ($) Unemployment Rate (%)  \\\n",
       "City   Year                                                    \n",
       "Oshawa 2016                   397934.0                   9.8   \n",
       "        2021                    705000                  15.2   \n",
       "\n",
       "             Property Tax Rate (%) Rented Houses Owned Houses  New Built  \n",
       "City   Year                                                               \n",
       "Oshawa 2016               1.561085         19720        42875        834  \n",
       "        2021              1.304741         23880        42750       1416  "
      ]
     },
     "execution_count": 24,
     "metadata": {},
     "output_type": "execute_result"
    }
   ],
   "source": [
    "#Adding to the df\n",
    "Oshawa_df[\"New Built\"] = [oshawa_new__2016,oshawa_new__2021]\n",
    "Oshawa_df"
   ]
  },
  {
   "cell_type": "markdown",
   "id": "9d08446d",
   "metadata": {},
   "source": [
    "**<font size=\"5\">Average Sale Price</font>**"
   ]
  },
  {
   "cell_type": "code",
   "execution_count": 25,
   "id": "a7232fc6",
   "metadata": {},
   "outputs": [
    {
     "data": {
      "text/plain": [
       "443635.0"
      ]
     },
     "execution_count": 25,
     "metadata": {},
     "output_type": "execute_result"
    }
   ],
   "source": [
    "#Listing all my paths\n",
    "data_2016 = Path(\"Resources/2016 Average Sale Price - Oshawa.csv\")\n",
    "\n",
    "#Read the pdf file\n",
    "df_2016 = pd.read_csv(data_2016, skiprows=[1],on_bad_lines=\"skip\")\n",
    "oshawa_sale_2016 = df_2016.index[0][3]\n",
    "oshawa_sale_2016"
   ]
  },
  {
   "cell_type": "code",
   "execution_count": 26,
   "id": "b824faa8",
   "metadata": {},
   "outputs": [
    {
     "data": {
      "text/plain": [
       "798221.0"
      ]
     },
     "execution_count": 26,
     "metadata": {},
     "output_type": "execute_result"
    }
   ],
   "source": [
    "#Listing all my paths\n",
    "data_2021 = Path(\"Resources/2021 Average Sale Price - Oshawa.csv\")\n",
    "\n",
    "#Read the csv file\n",
    "df_2021 = pd.read_csv(data_2021, skiprows=[1],on_bad_lines=\"skip\")\n",
    "oshawa_sale_2021 = df_2021.index[0][3]\n",
    "oshawa_sale_2021"
   ]
  },
  {
   "cell_type": "code",
   "execution_count": 27,
   "id": "4e4c26e3",
   "metadata": {},
   "outputs": [
    {
     "data": {
      "text/html": [
       "<div>\n",
       "<style scoped>\n",
       "    .dataframe tbody tr th:only-of-type {\n",
       "        vertical-align: middle;\n",
       "    }\n",
       "\n",
       "    .dataframe tbody tr th {\n",
       "        vertical-align: top;\n",
       "    }\n",
       "\n",
       "    .dataframe thead th {\n",
       "        text-align: right;\n",
       "    }\n",
       "</style>\n",
       "<table border=\"1\" class=\"dataframe\">\n",
       "  <thead>\n",
       "    <tr style=\"text-align: right;\">\n",
       "      <th></th>\n",
       "      <th></th>\n",
       "      <th>Population</th>\n",
       "      <th>Household Income ($)</th>\n",
       "      <th>Average Rent ($)</th>\n",
       "      <th>Median Rent ($)</th>\n",
       "      <th>Estimated House Value ($)</th>\n",
       "      <th>Unemployment Rate (%)</th>\n",
       "      <th>Property Tax Rate (%)</th>\n",
       "      <th>Rented Houses</th>\n",
       "      <th>Owned Houses</th>\n",
       "      <th>New Built</th>\n",
       "      <th>Average Sale Price ($)</th>\n",
       "    </tr>\n",
       "    <tr>\n",
       "      <th>City</th>\n",
       "      <th>Year</th>\n",
       "      <th></th>\n",
       "      <th></th>\n",
       "      <th></th>\n",
       "      <th></th>\n",
       "      <th></th>\n",
       "      <th></th>\n",
       "      <th></th>\n",
       "      <th></th>\n",
       "      <th></th>\n",
       "      <th></th>\n",
       "      <th></th>\n",
       "    </tr>\n",
       "  </thead>\n",
       "  <tbody>\n",
       "    <tr>\n",
       "      <th rowspan=\"2\" valign=\"top\">Oshawa</th>\n",
       "      <th>2016</th>\n",
       "      <td>159458</td>\n",
       "      <td>70211</td>\n",
       "      <td>1070</td>\n",
       "      <td>1015</td>\n",
       "      <td>397934.0</td>\n",
       "      <td>9.8</td>\n",
       "      <td>1.561085</td>\n",
       "      <td>19720</td>\n",
       "      <td>42875</td>\n",
       "      <td>834</td>\n",
       "      <td>443635.0</td>\n",
       "    </tr>\n",
       "    <tr>\n",
       "      <th>2021</th>\n",
       "      <td>175383</td>\n",
       "      <td>86000</td>\n",
       "      <td>1400</td>\n",
       "      <td>1300</td>\n",
       "      <td>705000</td>\n",
       "      <td>15.2</td>\n",
       "      <td>1.304741</td>\n",
       "      <td>23880</td>\n",
       "      <td>42750</td>\n",
       "      <td>1416</td>\n",
       "      <td>798221.0</td>\n",
       "    </tr>\n",
       "  </tbody>\n",
       "</table>\n",
       "</div>"
      ],
      "text/plain": [
       "             Population Household Income ($) Average Rent ($) Median Rent ($)  \\\n",
       "City   Year                                                                     \n",
       "Oshawa 2016      159458                70211             1070            1015   \n",
       "        2021     175383                86000             1400            1300   \n",
       "\n",
       "             Estimated House Value ($) Unemployment Rate (%)  \\\n",
       "City   Year                                                    \n",
       "Oshawa 2016                   397934.0                   9.8   \n",
       "        2021                    705000                  15.2   \n",
       "\n",
       "             Property Tax Rate (%) Rented Houses Owned Houses  New Built  \\\n",
       "City   Year                                                                \n",
       "Oshawa 2016               1.561085         19720        42875        834   \n",
       "        2021              1.304741         23880        42750       1416   \n",
       "\n",
       "              Average Sale Price ($)  \n",
       "City   Year                           \n",
       "Oshawa 2016                 443635.0  \n",
       "        2021                798221.0  "
      ]
     },
     "execution_count": 27,
     "metadata": {},
     "output_type": "execute_result"
    }
   ],
   "source": [
    "\n",
    "#Adding to the df\n",
    "Oshawa_df[\"Average Sale Price ($)\"] = [oshawa_sale_2016,oshawa_sale_2021]\n",
    "Oshawa_df"
   ]
  },
  {
   "cell_type": "markdown",
   "id": "c9a99623",
   "metadata": {},
   "source": [
    "**<font size=\"5\">Median Sale Price</font>**"
   ]
  },
  {
   "cell_type": "code",
   "execution_count": 28,
   "id": "22f39615",
   "metadata": {},
   "outputs": [
    {
     "name": "stdout",
     "output_type": "stream",
     "text": [
      " Median sale price in 2016 : $420,000 & median sale price in 2021 : $765,000\n"
     ]
    }
   ],
   "source": [
    "#Listing all my paths\n",
    "data = Path(\"Resources/Median Sale Price - Oshawa.csv\")\n",
    "\n",
    "#Read the csv file\n",
    "df = pd.read_csv(data, encoding = \"ISO-8859-1\")\n",
    "oshawa_median_sale = df.iloc[3].values\n",
    "oshawa_median_sale_2016 = oshawa_median_sale[1]\n",
    "oshawa_median_sale = df.iloc[8].values\n",
    "oshawa_median_sale_2021 = oshawa_median_sale[1]\n",
    "print(f' Median sale price in 2016 : {oshawa_median_sale_2016} & median sale price in 2021 : {oshawa_median_sale_2021}')"
   ]
  },
  {
   "cell_type": "code",
   "execution_count": 29,
   "id": "3c266370",
   "metadata": {},
   "outputs": [
    {
     "data": {
      "text/html": [
       "<div>\n",
       "<style scoped>\n",
       "    .dataframe tbody tr th:only-of-type {\n",
       "        vertical-align: middle;\n",
       "    }\n",
       "\n",
       "    .dataframe tbody tr th {\n",
       "        vertical-align: top;\n",
       "    }\n",
       "\n",
       "    .dataframe thead th {\n",
       "        text-align: right;\n",
       "    }\n",
       "</style>\n",
       "<table border=\"1\" class=\"dataframe\">\n",
       "  <thead>\n",
       "    <tr style=\"text-align: right;\">\n",
       "      <th></th>\n",
       "      <th></th>\n",
       "      <th>Population</th>\n",
       "      <th>Household Income ($)</th>\n",
       "      <th>Average Rent ($)</th>\n",
       "      <th>Median Rent ($)</th>\n",
       "      <th>Estimated House Value ($)</th>\n",
       "      <th>Unemployment Rate (%)</th>\n",
       "      <th>Property Tax Rate (%)</th>\n",
       "      <th>Rented Houses</th>\n",
       "      <th>Owned Houses</th>\n",
       "      <th>New Built</th>\n",
       "      <th>Average Sale Price ($)</th>\n",
       "      <th>Median Sale Price ($)</th>\n",
       "    </tr>\n",
       "    <tr>\n",
       "      <th>City</th>\n",
       "      <th>Year</th>\n",
       "      <th></th>\n",
       "      <th></th>\n",
       "      <th></th>\n",
       "      <th></th>\n",
       "      <th></th>\n",
       "      <th></th>\n",
       "      <th></th>\n",
       "      <th></th>\n",
       "      <th></th>\n",
       "      <th></th>\n",
       "      <th></th>\n",
       "      <th></th>\n",
       "    </tr>\n",
       "  </thead>\n",
       "  <tbody>\n",
       "    <tr>\n",
       "      <th rowspan=\"2\" valign=\"top\">Oshawa</th>\n",
       "      <th>2016</th>\n",
       "      <td>159458</td>\n",
       "      <td>70211</td>\n",
       "      <td>1070</td>\n",
       "      <td>1015</td>\n",
       "      <td>397934.0</td>\n",
       "      <td>9.8</td>\n",
       "      <td>1.561085</td>\n",
       "      <td>19720</td>\n",
       "      <td>42875</td>\n",
       "      <td>834</td>\n",
       "      <td>443635.0</td>\n",
       "      <td>$420,000</td>\n",
       "    </tr>\n",
       "    <tr>\n",
       "      <th>2021</th>\n",
       "      <td>175383</td>\n",
       "      <td>86000</td>\n",
       "      <td>1400</td>\n",
       "      <td>1300</td>\n",
       "      <td>705000</td>\n",
       "      <td>15.2</td>\n",
       "      <td>1.304741</td>\n",
       "      <td>23880</td>\n",
       "      <td>42750</td>\n",
       "      <td>1416</td>\n",
       "      <td>798221.0</td>\n",
       "      <td>$765,000</td>\n",
       "    </tr>\n",
       "  </tbody>\n",
       "</table>\n",
       "</div>"
      ],
      "text/plain": [
       "             Population Household Income ($) Average Rent ($) Median Rent ($)  \\\n",
       "City   Year                                                                     \n",
       "Oshawa 2016      159458                70211             1070            1015   \n",
       "        2021     175383                86000             1400            1300   \n",
       "\n",
       "             Estimated House Value ($) Unemployment Rate (%)  \\\n",
       "City   Year                                                    \n",
       "Oshawa 2016                   397934.0                   9.8   \n",
       "        2021                    705000                  15.2   \n",
       "\n",
       "             Property Tax Rate (%) Rented Houses Owned Houses  New Built  \\\n",
       "City   Year                                                                \n",
       "Oshawa 2016               1.561085         19720        42875        834   \n",
       "        2021              1.304741         23880        42750       1416   \n",
       "\n",
       "              Average Sale Price ($) Median Sale Price ($)  \n",
       "City   Year                                                 \n",
       "Oshawa 2016                 443635.0              $420,000  \n",
       "        2021                798221.0              $765,000  "
      ]
     },
     "execution_count": 29,
     "metadata": {},
     "output_type": "execute_result"
    }
   ],
   "source": [
    "#Adding to the df\n",
    "Oshawa_df[\"Median Sale Price ($)\"] = [oshawa_median_sale_2016,oshawa_median_sale_2021]\n",
    "Oshawa_df"
   ]
  },
  {
   "cell_type": "code",
   "execution_count": 30,
   "id": "0286b5fe",
   "metadata": {
    "scrolled": true
   },
   "outputs": [
    {
     "data": {
      "text/html": [
       "<div>\n",
       "<style scoped>\n",
       "    .dataframe tbody tr th:only-of-type {\n",
       "        vertical-align: middle;\n",
       "    }\n",
       "\n",
       "    .dataframe tbody tr th {\n",
       "        vertical-align: top;\n",
       "    }\n",
       "\n",
       "    .dataframe thead th {\n",
       "        text-align: right;\n",
       "    }\n",
       "</style>\n",
       "<table border=\"1\" class=\"dataframe\">\n",
       "  <thead>\n",
       "    <tr style=\"text-align: right;\">\n",
       "      <th></th>\n",
       "      <th></th>\n",
       "      <th>Population</th>\n",
       "      <th>Household Income ($)</th>\n",
       "      <th>Average Rent ($)</th>\n",
       "      <th>Median Rent ($)</th>\n",
       "      <th>Estimated House Value ($)</th>\n",
       "      <th>Unemployment Rate (%)</th>\n",
       "      <th>Property Tax Rate (%)</th>\n",
       "      <th>Rented Houses</th>\n",
       "      <th>Owned Houses</th>\n",
       "      <th>New Built</th>\n",
       "      <th>Average Sale Price ($)</th>\n",
       "      <th>Median Sale Price ($)</th>\n",
       "    </tr>\n",
       "    <tr>\n",
       "      <th>City</th>\n",
       "      <th>Year</th>\n",
       "      <th></th>\n",
       "      <th></th>\n",
       "      <th></th>\n",
       "      <th></th>\n",
       "      <th></th>\n",
       "      <th></th>\n",
       "      <th></th>\n",
       "      <th></th>\n",
       "      <th></th>\n",
       "      <th></th>\n",
       "      <th></th>\n",
       "      <th></th>\n",
       "    </tr>\n",
       "  </thead>\n",
       "  <tbody>\n",
       "    <tr>\n",
       "      <th rowspan=\"2\" valign=\"top\">Oshawa</th>\n",
       "      <th>2016</th>\n",
       "      <td>159458</td>\n",
       "      <td>70211</td>\n",
       "      <td>1070</td>\n",
       "      <td>1015</td>\n",
       "      <td>397934.0</td>\n",
       "      <td>9.8</td>\n",
       "      <td>1.561085</td>\n",
       "      <td>19720</td>\n",
       "      <td>42875</td>\n",
       "      <td>834</td>\n",
       "      <td>443635.0</td>\n",
       "      <td>$420,000</td>\n",
       "    </tr>\n",
       "    <tr>\n",
       "      <th>2021</th>\n",
       "      <td>175383</td>\n",
       "      <td>86000</td>\n",
       "      <td>1400</td>\n",
       "      <td>1300</td>\n",
       "      <td>705000</td>\n",
       "      <td>15.2</td>\n",
       "      <td>1.304741</td>\n",
       "      <td>23880</td>\n",
       "      <td>42750</td>\n",
       "      <td>1416</td>\n",
       "      <td>798221.0</td>\n",
       "      <td>$765,000</td>\n",
       "    </tr>\n",
       "  </tbody>\n",
       "</table>\n",
       "</div>"
      ],
      "text/plain": [
       "             Population Household Income ($) Average Rent ($) Median Rent ($)  \\\n",
       "City   Year                                                                     \n",
       "Oshawa 2016      159458                70211             1070            1015   \n",
       "        2021     175383                86000             1400            1300   \n",
       "\n",
       "             Estimated House Value ($) Unemployment Rate (%)  \\\n",
       "City   Year                                                    \n",
       "Oshawa 2016                   397934.0                   9.8   \n",
       "        2021                    705000                  15.2   \n",
       "\n",
       "             Property Tax Rate (%) Rented Houses Owned Houses  New Built  \\\n",
       "City   Year                                                                \n",
       "Oshawa 2016               1.561085         19720        42875        834   \n",
       "        2021              1.304741         23880        42750       1416   \n",
       "\n",
       "              Average Sale Price ($) Median Sale Price ($)  \n",
       "City   Year                                                 \n",
       "Oshawa 2016                 443635.0              $420,000  \n",
       "        2021                798221.0              $765,000  "
      ]
     },
     "execution_count": 30,
     "metadata": {},
     "output_type": "execute_result"
    }
   ],
   "source": [
    "\n",
    "#Printing to csv\n",
    "Oshawa_df.to_csv('Output/Oshawa_df.csv')\n",
    "\n",
    "#Displaying the df\n",
    "Oshawa_df"
   ]
  },
  {
   "cell_type": "markdown",
   "id": "1ea8c34f",
   "metadata": {},
   "source": [
    "**<font size=\"5\">Amenities</font>**"
   ]
  },
  {
   "cell_type": "code",
   "execution_count": 31,
   "id": "239bc321",
   "metadata": {},
   "outputs": [
    {
     "data": {
      "text/plain": [
       "Facility_Type\n",
       "Public                      32\n",
       "Catholic                    15\n",
       "Private                      8\n",
       "Private Institution          4\n",
       "Hospital                     1\n",
       "Technical and Vocational     1\n",
       "University                   1\n",
       "Name: count, dtype: int64"
      ]
     },
     "execution_count": 31,
     "metadata": {},
     "output_type": "execute_result"
    }
   ],
   "source": [
    "#Listing my paths\n",
    "schools = Path('Resources/schools by city.csv')\n",
    "\n",
    "#Finding the total number of each type of schools\n",
    "df =pd.read_csv(schools, encoding = 'ISO-8859-1', sep = ';')\n",
    "df = df.loc[df[\"City\"]==\"Oshawa\"]\n",
    "values = df['Facility_Type'].value_counts()\n",
    "values"
   ]
  },
  {
   "cell_type": "code",
   "execution_count": 32,
   "id": "ff640e6a",
   "metadata": {},
   "outputs": [
    {
     "data": {
      "text/html": [
       "<div>\n",
       "<style scoped>\n",
       "    .dataframe tbody tr th:only-of-type {\n",
       "        vertical-align: middle;\n",
       "    }\n",
       "\n",
       "    .dataframe tbody tr th {\n",
       "        vertical-align: top;\n",
       "    }\n",
       "\n",
       "    .dataframe thead th {\n",
       "        text-align: right;\n",
       "    }\n",
       "</style>\n",
       "<table border=\"1\" class=\"dataframe\">\n",
       "  <thead>\n",
       "    <tr style=\"text-align: right;\">\n",
       "      <th></th>\n",
       "      <th># of Public Schools</th>\n",
       "      <th># of Catholic Schools</th>\n",
       "      <th># of Private Schools</th>\n",
       "    </tr>\n",
       "    <tr>\n",
       "      <th>City</th>\n",
       "      <th></th>\n",
       "      <th></th>\n",
       "      <th></th>\n",
       "    </tr>\n",
       "  </thead>\n",
       "  <tbody>\n",
       "    <tr>\n",
       "      <th>Oshawa</th>\n",
       "      <td>32</td>\n",
       "      <td>15</td>\n",
       "      <td>8</td>\n",
       "    </tr>\n",
       "  </tbody>\n",
       "</table>\n",
       "</div>"
      ],
      "text/plain": [
       "        # of Public Schools  # of Catholic Schools  # of Private Schools\n",
       "City                                                                    \n",
       "Oshawa                   32                     15                     8"
      ]
     },
     "execution_count": 32,
     "metadata": {},
     "output_type": "execute_result"
    }
   ],
   "source": [
    "#Creating a df\n",
    "Oshawa_amenities_df = pd.DataFrame({'# of Public Schools':values[0],\n",
    "                                   '# of Catholic Schools':values[1],\n",
    "                                   '# of Private Schools':values[2],\n",
    "                                   'City':'Oshawa'},\n",
    "                                   index=[0])\n",
    "Oshawa_amenities_df = Oshawa_amenities_df.set_index('City')\n",
    "#Displaying the df\n",
    "Oshawa_amenities_df"
   ]
  },
  {
   "cell_type": "code",
   "execution_count": 33,
   "id": "3059f28f",
   "metadata": {},
   "outputs": [
    {
     "name": "stdout",
     "output_type": "stream",
     "text": [
      "the latitude is: 43.8975558 and the longitude is: -78.8635324\n"
     ]
    }
   ],
   "source": [
    "# Step 1. Find Oshawa's lats and longs\n",
    "base_url1 = \"https://api.geoapify.com/v1/geocode/search?\"\n",
    "target_city = \"Oshawa\"\n",
    "combined_url = f'{base_url1}text={target_city}&format=json&apiKey={apify_key}'\n",
    "response =requests.get(combined_url).json()\n",
    "lat = response['results'][0]['lat']\n",
    "lon = response['results'][0]['lon']\n",
    "print(f'the latitude is: {lat} and the longitude is: {lon}')"
   ]
  },
  {
   "cell_type": "code",
   "execution_count": 34,
   "id": "52d5a50a",
   "metadata": {},
   "outputs": [
    {
     "data": {
      "text/plain": [
       "356"
      ]
     },
     "execution_count": 34,
     "metadata": {},
     "output_type": "execute_result"
    }
   ],
   "source": [
    "#Step 2.Find the places using \n",
    "#https://api.geoapify.com/v2/places?categories=leisure&filter=circle:-78.8635324,43.8975558,10000&bias=proximity:-78.8635324,43.8975558&limit=300&apiKey=YOUR_API_KEY\n",
    "\n",
    "radius = 10000\n",
    "limit = 500\n",
    "base_url2 = \"https://api.geoapify.com/v2/places?\"\n",
    "combined_url = f'{base_url2}categories=leisure&filter=circle:{lon},{lat},{radius}&bias=proximity:{lon},{lat}&limit={limit}&apiKey={apify_key}'\n",
    "\n",
    "response = requests.get(combined_url).json()\n",
    "leisure_types = []\n",
    "for feature in response['features']:\n",
    "    leisure_info = feature['properties']['datasource']['raw']['osm_id']\n",
    "    if 'city' in feature['properties']:\n",
    "        leisure_cities = feature['properties']['city']\n",
    "        if leisure_cities == 'Oshawa':\n",
    "            leisure_types.append(leisure_info)\n",
    "lenght = len(leisure_types)\n",
    "lenght"
   ]
  },
  {
   "cell_type": "code",
   "execution_count": 35,
   "id": "3908dbca",
   "metadata": {},
   "outputs": [
    {
     "data": {
      "text/html": [
       "<div>\n",
       "<style scoped>\n",
       "    .dataframe tbody tr th:only-of-type {\n",
       "        vertical-align: middle;\n",
       "    }\n",
       "\n",
       "    .dataframe tbody tr th {\n",
       "        vertical-align: top;\n",
       "    }\n",
       "\n",
       "    .dataframe thead th {\n",
       "        text-align: right;\n",
       "    }\n",
       "</style>\n",
       "<table border=\"1\" class=\"dataframe\">\n",
       "  <thead>\n",
       "    <tr style=\"text-align: right;\">\n",
       "      <th></th>\n",
       "      <th># of Public Schools</th>\n",
       "      <th># of Catholic Schools</th>\n",
       "      <th># of Private Schools</th>\n",
       "      <th># of Leisure Spaces</th>\n",
       "    </tr>\n",
       "    <tr>\n",
       "      <th>City</th>\n",
       "      <th></th>\n",
       "      <th></th>\n",
       "      <th></th>\n",
       "      <th></th>\n",
       "    </tr>\n",
       "  </thead>\n",
       "  <tbody>\n",
       "    <tr>\n",
       "      <th>Oshawa</th>\n",
       "      <td>32</td>\n",
       "      <td>15</td>\n",
       "      <td>8</td>\n",
       "      <td>356</td>\n",
       "    </tr>\n",
       "  </tbody>\n",
       "</table>\n",
       "</div>"
      ],
      "text/plain": [
       "        # of Public Schools  # of Catholic Schools  # of Private Schools  \\\n",
       "City                                                                       \n",
       "Oshawa                   32                     15                     8   \n",
       "\n",
       "        # of Leisure Spaces  \n",
       "City                         \n",
       "Oshawa                  356  "
      ]
     },
     "execution_count": 35,
     "metadata": {},
     "output_type": "execute_result"
    }
   ],
   "source": [
    "#Adding to the df\n",
    "Oshawa_amenities_df['# of Leisure Spaces'] = lenght\n",
    "\n",
    "#Printing to csv\n",
    "Oshawa_amenities_df.to_csv('Output/Oshawa_amenities_df.csv')\n",
    "\n",
    "#Displaying the df\n",
    "Oshawa_amenities_df"
   ]
  },
  {
   "cell_type": "code",
   "execution_count": null,
   "id": "bccab533",
   "metadata": {},
   "outputs": [],
   "source": []
  },
  {
   "cell_type": "code",
   "execution_count": null,
   "id": "e8c368d0",
   "metadata": {},
   "outputs": [],
   "source": []
  }
 ],
 "metadata": {
  "kernelspec": {
   "display_name": "Python 3 (ipykernel)",
   "language": "python",
   "name": "python3"
  },
  "language_info": {
   "codemirror_mode": {
    "name": "ipython",
    "version": 3
   },
   "file_extension": ".py",
   "mimetype": "text/x-python",
   "name": "python",
   "nbconvert_exporter": "python",
   "pygments_lexer": "ipython3",
   "version": "3.11.5"
  }
 },
 "nbformat": 4,
 "nbformat_minor": 5
}
