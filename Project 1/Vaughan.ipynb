{
 "cells": [
  {
   "cell_type": "code",
   "execution_count": 29,
   "id": "initial_id",
   "metadata": {
    "collapsed": true,
    "ExecuteTime": {
     "end_time": "2023-12-14T00:30:59.706559Z",
     "start_time": "2023-12-14T00:30:59.672819Z"
    }
   },
   "outputs": [],
   "source": [
    "#Dependencies\n",
    "import pandas as pd\n",
    "from pathlib import Path\n",
    "import requests\n",
    "from pprint import pprint\n",
    "\n",
    "# Import API key\n",
    "from api_keys import geoapify_key"
   ]
  },
  {
   "cell_type": "markdown",
   "source": [
    "# Population"
   ],
   "metadata": {
    "collapsed": false
   },
   "id": "f4fe901684302311"
  },
  {
   "cell_type": "code",
   "execution_count": 30,
   "outputs": [
    {
     "name": "stdout",
     "output_type": "stream",
     "text": [
      "Population 2016: 306233\n",
      "Population 2021: 323103\n"
     ]
    }
   ],
   "source": [
    "#Path\n",
    "vaughan_population = Path('Resources/Vaughan_Population.csv')\n",
    "\n",
    "#Read the csv file\n",
    "df = pd.read_csv(vaughan_population)\n",
    "vaughan_population_2016 = df.index[4][3]\n",
    "vaughan_population_2021 = df.index[3][3]\n",
    "\n",
    "print(f\"Population 2016: {vaughan_population_2016}\")\n",
    "print(f\"Population 2021: {vaughan_population_2021}\")"
   ],
   "metadata": {
    "collapsed": false,
    "ExecuteTime": {
     "end_time": "2023-12-14T00:30:59.715533Z",
     "start_time": "2023-12-14T00:30:59.708572Z"
    }
   },
   "id": "f9e9917e01bb5933"
  },
  {
   "cell_type": "markdown",
   "source": [
    "# Income"
   ],
   "metadata": {
    "collapsed": false
   },
   "id": "4f6b3271def6df61"
  },
  {
   "cell_type": "code",
   "execution_count": 31,
   "outputs": [
    {
     "name": "stdout",
     "output_type": "stream",
     "text": [
      "Income 2016:    90615\n",
      "Income 2021: 124000\n"
     ]
    }
   ],
   "source": [
    "#Path\n",
    "data_2016 = Path(\"Resources/Vaughan_2016 Income.csv\")\n",
    "data_2021 = Path(\"Resources/Vaughan_2021 Income.csv\")\n",
    "\n",
    "#Read 2016 csv file\n",
    "df_2016 = pd.read_csv(data_2016, encoding = \"ISO-8859-1\")\n",
    "vaughan_income_2016 = df_2016.index[84][3]\n",
    "\n",
    "#Read 2021 csv file\n",
    "df_2021 = pd.read_csv(data_2021, encoding = \"ISO-8859-1\")\n",
    "vaughan_income_2021 = df_2021.index[4][3]\n",
    "\n",
    "print(f\"Income 2016: {vaughan_income_2016}\")\n",
    "print(f\"Income 2021: {vaughan_income_2021}\")"
   ],
   "metadata": {
    "collapsed": false,
    "ExecuteTime": {
     "end_time": "2023-12-14T00:30:59.718534Z",
     "start_time": "2023-12-14T00:30:59.712960Z"
    }
   },
   "id": "6f4c57bdf083cebc"
  },
  {
   "cell_type": "markdown",
   "source": [
    "# Unemployment"
   ],
   "metadata": {
    "collapsed": false
   },
   "id": "d0786297b942c80c"
  },
  {
   "cell_type": "code",
   "execution_count": 32,
   "outputs": [
    {
     "name": "stdout",
     "output_type": "stream",
     "text": [
      "Unemployment Rate 2016:   5.8\n",
      "Unemployment Rate 2021:    12.5\n"
     ]
    }
   ],
   "source": [
    "#Path\n",
    "data_2016 = Path(\"Resources/Vaughan_2016 Employment.csv\")\n",
    "data_2021 = Path(\"Resources/Vaughan_2021 Employment.csv\")\n",
    "\n",
    "#Read 2016 csv file\n",
    "df_2016 = pd.read_csv(data_2016, encoding = \"ISO-8859-1\")\n",
    "vaughan_unemployment_rate_2016 = df_2016.index[9][3]\n",
    "\n",
    "#Read 2021 csv file\n",
    "df_2021 = pd.read_csv(data_2021, encoding = \"ISO-8859-1\")\n",
    "vaughan_unemployment_rate_2021 = df_2021.index[10][3]\n",
    "\n",
    "print(f\"Unemployment Rate 2016: {vaughan_unemployment_rate_2016}\")\n",
    "print(f\"Unemployment Rate 2021: {vaughan_unemployment_rate_2021}\")"
   ],
   "metadata": {
    "collapsed": false,
    "ExecuteTime": {
     "end_time": "2023-12-14T00:30:59.725904Z",
     "start_time": "2023-12-14T00:30:59.719014Z"
    }
   },
   "id": "176d324a9c00e995"
  },
  {
   "cell_type": "markdown",
   "source": [
    "# Property Tax"
   ],
   "metadata": {
    "collapsed": false
   },
   "id": "52f41ead2b6ea0c9"
  },
  {
   "cell_type": "code",
   "execution_count": 33,
   "outputs": [
    {
     "name": "stdout",
     "output_type": "stream",
     "text": [
      "Tax Rate 2016: 0.815855\n",
      "Tax Rate 2021: 0.669976\n"
     ]
    }
   ],
   "source": [
    "#Path\n",
    "data_2016 = Path(\"Resources/Vaughan_Property Tax Rate.csv\")\n",
    "data_2021 = Path(\"Resources/Vaughan_Property Tax Rate.csv\")\n",
    "\n",
    "#Read 2016 property tax csv\n",
    "df_2016 = pd.read_csv(data_2016, encoding = \"ISO-8859-1\", on_bad_lines = \"skip\", sep = \",\")\n",
    "df_2016 = df_2016.loc[df_2016[\"Year\"] == \"2016\"]\n",
    "vaughan_tax_rate_2016 = df_2016.iloc[0, 3]\n",
    "\n",
    "#Read 2021 property tax csv\n",
    "df_2021 = pd.read_csv(data_2021, encoding = \"ISO-8859-1\", on_bad_lines = \"skip\", sep = \",\")\n",
    "df_2021 = df_2021.loc[df_2021[\"Year\"] == \"2021\"]\n",
    "vaughan_tax_rate_2021 = df_2021.iloc[0, 3]\n",
    "\n",
    "print(f\"Tax Rate 2016: {vaughan_tax_rate_2016}\")\n",
    "print(f\"Tax Rate 2021: {vaughan_tax_rate_2021}\")"
   ],
   "metadata": {
    "collapsed": false,
    "ExecuteTime": {
     "end_time": "2023-12-14T00:30:59.744451Z",
     "start_time": "2023-12-14T00:30:59.724537Z"
    }
   },
   "id": "25b241bd161da3bf"
  },
  {
   "cell_type": "markdown",
   "source": [
    "# Housing Prices - Estimated"
   ],
   "metadata": {
    "collapsed": false
   },
   "id": "75566063d57c1afb"
  },
  {
   "cell_type": "code",
   "execution_count": 34,
   "outputs": [
    {
     "name": "stdout",
     "output_type": "stream",
     "text": [
      "Estimated Price 2016:   893065\n",
      "Estimated Price 2021: 1282000\n"
     ]
    }
   ],
   "source": [
    "#Path\n",
    "data_2016 = Path(\"Resources/Vaughan_2016 Housing.csv\")\n",
    "data_2021 = Path(\"Resources/Vaughan_2021 Housing.csv\")\n",
    "\n",
    "#Read 2016 csv file\n",
    "df_2016 = pd.read_csv(data_2016, encoding = \"ISO-8859-1\")\n",
    "vaughan_est_value_2016 = df_2016.index[62][3]\n",
    "\n",
    "#Read 2021 csv file\n",
    "df_2021 = pd.read_csv(data_2021, encoding = \"ISO-8859-1\")\n",
    "vaughan_est_value_2021 = df_2021.index[78][3]\n",
    "\n",
    "print(f\"Estimated Price 2016: {vaughan_est_value_2016}\")\n",
    "print(f\"Estimated Price 2021: {vaughan_est_value_2021}\")"
   ],
   "metadata": {
    "collapsed": false,
    "ExecuteTime": {
     "end_time": "2023-12-14T00:30:59.744999Z",
     "start_time": "2023-12-14T00:30:59.729095Z"
    }
   },
   "id": "6bba0b98aa970c77"
  },
  {
   "cell_type": "markdown",
   "source": [
    "# Housing Prices - Rentals"
   ],
   "metadata": {
    "collapsed": false
   },
   "id": "128ff1c555cdf5a9"
  },
  {
   "cell_type": "code",
   "execution_count": 35,
   "outputs": [
    {
     "name": "stdout",
     "output_type": "stream",
     "text": [
      "Average Rental 2016: 2492\n",
      "Average Rental 2021: 2841\n",
      "Median Rental 2016: 2300\n",
      "Median Rental 2021: 2550\n"
     ]
    }
   ],
   "source": [
    "#Path\n",
    "data_2016 = Path(\"Resources/Vaughan_Housing Prices.csv\")\n",
    "\n",
    "#Read the csv file\n",
    "df_2016 = pd.read_csv(data_2016, encoding = \"ISO-8859-1\")\n",
    "vaughan_average_rental_2016 = df_2016.iloc[0, 3]\n",
    "vaughan_median_rental_2016 = df_2016.iloc[0, 4]\n",
    "vaughan_average_rental_2021 = df_2016.iloc[8, 3]\n",
    "vaughan_median_rental_2021 = df_2016.iloc[8, 4]\n",
    "\n",
    "print(f\"Average Rental 2016: {vaughan_average_rental_2016}\")\n",
    "print(f\"Average Rental 2021: {vaughan_average_rental_2021}\")\n",
    "print(f\"Median Rental 2016: {vaughan_median_rental_2016}\")\n",
    "print(f\"Median Rental 2021: {vaughan_median_rental_2021}\")"
   ],
   "metadata": {
    "collapsed": false,
    "ExecuteTime": {
     "end_time": "2023-12-14T00:30:59.745395Z",
     "start_time": "2023-12-14T00:30:59.733471Z"
    }
   },
   "id": "3d071ee857b8c451"
  },
  {
   "cell_type": "markdown",
   "source": [
    "# Housing Prices - Sales"
   ],
   "metadata": {
    "collapsed": false
   },
   "id": "4dee0c0799ae0c52"
  },
  {
   "cell_type": "code",
   "execution_count": 36,
   "outputs": [
    {
     "name": "stdout",
     "output_type": "stream",
     "text": [
      "Average Sale Price 2016: 656698\n",
      "Average Sale Price 2021: 1299913\n",
      "Median Sale Price 2016: 600000\n",
      "Median Sale Price 2021: 1200000\n"
     ]
    }
   ],
   "source": [
    "#Path\n",
    "data_2016 = Path(\"Resources/Vaughan_Housing Prices.csv\")\n",
    "\n",
    "#Read the csv file\n",
    "df_2016 = pd.read_csv(data_2016, encoding = \"ISO-8859-1\")\n",
    "vaughan_average_sale_2016 = df_2016.iloc[0, 1]\n",
    "vaughan_median_sale_2016 = df_2016.iloc[0, 2]\n",
    "vaughan_average_sale_2021 = df_2016.iloc[8, 1]\n",
    "vaughan_median_sale_2021 = df_2016.iloc[8, 2]\n",
    "\n",
    "print(f\"Average Sale Price 2016: {vaughan_average_sale_2016}\")\n",
    "print(f\"Average Sale Price 2021: {vaughan_average_sale_2021}\")\n",
    "print(f\"Median Sale Price 2016: {vaughan_median_sale_2016}\")\n",
    "print(f\"Median Sale Price 2021: {vaughan_median_sale_2021}\")"
   ],
   "metadata": {
    "collapsed": false,
    "ExecuteTime": {
     "end_time": "2023-12-14T00:30:59.745679Z",
     "start_time": "2023-12-14T00:30:59.737004Z"
    }
   },
   "id": "33ff9b96aa6714a1"
  },
  {
   "cell_type": "markdown",
   "source": [
    "# Number Owned vs Rented"
   ],
   "metadata": {
    "collapsed": false
   },
   "id": "f7e6390cb10f4ae8"
  },
  {
   "cell_type": "code",
   "execution_count": 37,
   "outputs": [
    {
     "name": "stdout",
     "output_type": "stream",
     "text": [
      "Number Owned 2016:    84490\n",
      "Number Owned 2021:  89290\n",
      "Number Rented 2016:     9765\n",
      "Number Rented 2021:  14620\n"
     ]
    }
   ],
   "source": [
    "#Path\n",
    "data_2016 = Path(\"Resources/Vaughan_2016 Housing.csv\")\n",
    "data_2021 = Path(\"Resources/Vaughan_2021 Housing.csv\")\n",
    "\n",
    "#Read 2016 csv file\n",
    "df_2016 = pd.read_csv(data_2016, encoding = \"ISO-8859-1\")\n",
    "vaughan_owned_2016 = df_2016.index[3][3]\n",
    "vaughan_rented_2016 = df_2016.index[4][3]\n",
    "\n",
    "#Read 2021 csv file\n",
    "df_2021 = pd.read_csv(data_2021, encoding = \"ISO-8859-1\")\n",
    "vaughan_owned_2021 = df_2021.index[4][3]\n",
    "vaughan_rented_2021 = df_2021.index[5][3]\n",
    "\n",
    "print(f\"Number Owned 2016: {vaughan_owned_2016}\")\n",
    "print(f\"Number Owned 2021: {vaughan_owned_2021}\")\n",
    "\n",
    "print(f\"Number Rented 2016: {vaughan_rented_2016}\")\n",
    "print(f\"Number Rented 2021: {vaughan_rented_2021}\")"
   ],
   "metadata": {
    "collapsed": false,
    "ExecuteTime": {
     "end_time": "2023-12-14T00:30:59.786189Z",
     "start_time": "2023-12-14T00:30:59.746614Z"
    }
   },
   "id": "b625e1ce83b707b6"
  },
  {
   "cell_type": "markdown",
   "source": [
    "# Number of Newly Built Houses"
   ],
   "metadata": {
    "collapsed": false
   },
   "id": "b5fdcfb33fa14218"
  },
  {
   "cell_type": "code",
   "execution_count": 38,
   "outputs": [
    {
     "name": "stdout",
     "output_type": "stream",
     "text": [
      "Number of Newly Built 2016: 2,270\n",
      "Number of Newly Built 2021: 5,564\n"
     ]
    }
   ],
   "source": [
    "#Path\n",
    "data_2016 = Path(\"Resources/Vaughan_New Housing Construction.csv\")\n",
    "data_2021 = Path(\"Resources/Vaughan_New Housing Construction.csv\")\n",
    "\n",
    "#Read 2016 csv file\n",
    "df_2016 = pd.read_csv(data_2016, encoding=\"ISO-8859-1\")\n",
    "vaughan_new_built_2016 = df_2016.iloc[25, 5]\n",
    "\n",
    "#Read 2021 csv file\n",
    "df_2021 = pd.read_csv(data_2021, encoding=\"ISO-8859-1\")\n",
    "vaughan_new_built_2021 = df_2021.iloc[33, 5]\n",
    "\n",
    "print(f\"Number of Newly Built 2016: {vaughan_new_built_2016}\")\n",
    "print(f\"Number of Newly Built 2021: {vaughan_new_built_2021}\")"
   ],
   "metadata": {
    "collapsed": false,
    "ExecuteTime": {
     "end_time": "2023-12-14T00:30:59.787308Z",
     "start_time": "2023-12-14T00:30:59.752306Z"
    }
   },
   "id": "8c05d443bc6e8477"
  },
  {
   "cell_type": "markdown",
   "source": [
    "# Assemble the Dataframe"
   ],
   "metadata": {
    "collapsed": false
   },
   "id": "235f9e0e3659d196"
  },
  {
   "cell_type": "code",
   "execution_count": 39,
   "outputs": [
    {
     "data": {
      "text/plain": "              Population Household Income ($)  Average Rent ($)  \\\nCity    Year                                                      \nVaughan 2016      306233                90615              2492   \n         2021     323103               124000              2841   \n\n               Median Rent ($) Estimated House Value ($)  \\\nCity    Year                                               \nVaughan 2016              2300                    893065   \n         2021             2550                   1282000   \n\n              Unemployment Rate (%)  Property Tax Rate (%) Rented Houses  \\\nCity    Year                                                               \nVaughan 2016                    5.8               0.815855          9765   \n         2021                  12.5               0.669976         14620   \n\n              Owned Houses New Built  Average Sale Price ($)  \\\nCity    Year                                                   \nVaughan 2016         84490     2,270                  656698   \n         2021        89290     5,564                 1299913   \n\n               Median Sale Price ($)  \nCity    Year                          \nVaughan 2016                  600000  \n         2021                1200000  ",
      "text/html": "<div>\n<style scoped>\n    .dataframe tbody tr th:only-of-type {\n        vertical-align: middle;\n    }\n\n    .dataframe tbody tr th {\n        vertical-align: top;\n    }\n\n    .dataframe thead th {\n        text-align: right;\n    }\n</style>\n<table border=\"1\" class=\"dataframe\">\n  <thead>\n    <tr style=\"text-align: right;\">\n      <th></th>\n      <th></th>\n      <th>Population</th>\n      <th>Household Income ($)</th>\n      <th>Average Rent ($)</th>\n      <th>Median Rent ($)</th>\n      <th>Estimated House Value ($)</th>\n      <th>Unemployment Rate (%)</th>\n      <th>Property Tax Rate (%)</th>\n      <th>Rented Houses</th>\n      <th>Owned Houses</th>\n      <th>New Built</th>\n      <th>Average Sale Price ($)</th>\n      <th>Median Sale Price ($)</th>\n    </tr>\n    <tr>\n      <th>City</th>\n      <th>Year</th>\n      <th></th>\n      <th></th>\n      <th></th>\n      <th></th>\n      <th></th>\n      <th></th>\n      <th></th>\n      <th></th>\n      <th></th>\n      <th></th>\n      <th></th>\n      <th></th>\n    </tr>\n  </thead>\n  <tbody>\n    <tr>\n      <th rowspan=\"2\" valign=\"top\">Vaughan</th>\n      <th>2016</th>\n      <td>306233</td>\n      <td>90615</td>\n      <td>2492</td>\n      <td>2300</td>\n      <td>893065</td>\n      <td>5.8</td>\n      <td>0.815855</td>\n      <td>9765</td>\n      <td>84490</td>\n      <td>2,270</td>\n      <td>656698</td>\n      <td>600000</td>\n    </tr>\n    <tr>\n      <th>2021</th>\n      <td>323103</td>\n      <td>124000</td>\n      <td>2841</td>\n      <td>2550</td>\n      <td>1282000</td>\n      <td>12.5</td>\n      <td>0.669976</td>\n      <td>14620</td>\n      <td>89290</td>\n      <td>5,564</td>\n      <td>1299913</td>\n      <td>1200000</td>\n    </tr>\n  </tbody>\n</table>\n</div>"
     },
     "execution_count": 39,
     "metadata": {},
     "output_type": "execute_result"
    }
   ],
   "source": [
    "vaughan_df = pd.DataFrame({\n",
    "    'City': ['Vaughan', 'Vaughan'],\n",
    "    'Year': ['2016',' 2021'],\n",
    "    'Population': [vaughan_population_2016, vaughan_population_2021],\n",
    "    'Household Income ($)': [vaughan_income_2016,vaughan_income_2021],\n",
    "    'Average Rent ($)': [vaughan_average_rental_2016,vaughan_average_rental_2021],\n",
    "    'Median Rent ($)': [vaughan_median_rental_2016,vaughan_median_rental_2021],\n",
    "    'Estimated House Value ($)': [vaughan_est_value_2016,vaughan_est_value_2021],\n",
    "    'Unemployment Rate (%)': [vaughan_unemployment_rate_2016,vaughan_unemployment_rate_2021],\n",
    "    'Property Tax Rate (%)': [vaughan_tax_rate_2016,vaughan_tax_rate_2021],\n",
    "    'Rented Houses': [vaughan_rented_2016,vaughan_rented_2021],\n",
    "    'Owned Houses': [vaughan_owned_2016,vaughan_owned_2021],\n",
    "    'New Built': [vaughan_new_built_2016,vaughan_new_built_2021],\n",
    "    'Average Sale Price ($)': [vaughan_average_sale_2016,vaughan_average_sale_2021],\n",
    "    'Median Sale Price ($)': [vaughan_median_sale_2016,vaughan_median_sale_2021]\n",
    "})\n",
    "\n",
    "vaughan_df = vaughan_df.set_index(['City', 'Year'])\n",
    "\n",
    "vaughan_df"
   ],
   "metadata": {
    "collapsed": false,
    "ExecuteTime": {
     "end_time": "2023-12-14T00:30:59.788174Z",
     "start_time": "2023-12-14T00:30:59.756883Z"
    }
   },
   "id": "21d84d265bb2de96"
  },
  {
   "cell_type": "code",
   "execution_count": 40,
   "outputs": [],
   "source": [
    "vaughan_df.to_csv('Output/vaughan_df.csv')"
   ],
   "metadata": {
    "collapsed": false,
    "ExecuteTime": {
     "end_time": "2023-12-14T00:30:59.788447Z",
     "start_time": "2023-12-14T00:30:59.762218Z"
    }
   },
   "id": "ae39becd132537b4"
  },
  {
   "cell_type": "markdown",
   "source": [
    "# Schools"
   ],
   "metadata": {
    "collapsed": false
   },
   "id": "b5545ef59f40c1e5"
  },
  {
   "cell_type": "code",
   "execution_count": 48,
   "outputs": [
    {
     "data": {
      "text/plain": "Facility_Type\nPublic      46\nPrivate     46\nCatholic    41\nName: count, dtype: int64"
     },
     "execution_count": 48,
     "metadata": {},
     "output_type": "execute_result"
    }
   ],
   "source": [
    "df = pd.read_csv('Resources/ODEF_v2_1.csv', encoding='ISO-8859-1')\n",
    "df = df.loc[df['Provider'] == 'Province of Ontario']\n",
    "df = df.loc[df['CSDNAME'] == 'Vaughan']\n",
    "school_types = df['Facility_Type'].value_counts()\n",
    "school_types"
   ],
   "metadata": {
    "collapsed": false,
    "ExecuteTime": {
     "end_time": "2023-12-14T01:00:12.348831Z",
     "start_time": "2023-12-14T01:00:12.261273Z"
    }
   },
   "id": "ba49c3e499814f9a"
  },
  {
   "cell_type": "code",
   "execution_count": 49,
   "outputs": [
    {
     "data": {
      "text/plain": "         # of Public Schools  # of Catholic Schools  # of Private Schools\nCity                                                                     \nVaughan                   41                     46                    46",
      "text/html": "<div>\n<style scoped>\n    .dataframe tbody tr th:only-of-type {\n        vertical-align: middle;\n    }\n\n    .dataframe tbody tr th {\n        vertical-align: top;\n    }\n\n    .dataframe thead th {\n        text-align: right;\n    }\n</style>\n<table border=\"1\" class=\"dataframe\">\n  <thead>\n    <tr style=\"text-align: right;\">\n      <th></th>\n      <th># of Public Schools</th>\n      <th># of Catholic Schools</th>\n      <th># of Private Schools</th>\n    </tr>\n    <tr>\n      <th>City</th>\n      <th></th>\n      <th></th>\n      <th></th>\n    </tr>\n  </thead>\n  <tbody>\n    <tr>\n      <th>Vaughan</th>\n      <td>41</td>\n      <td>46</td>\n      <td>46</td>\n    </tr>\n  </tbody>\n</table>\n</div>"
     },
     "execution_count": 49,
     "metadata": {},
     "output_type": "execute_result"
    }
   ],
   "source": [
    "vaughan_amenities_df = pd.DataFrame({'# of Public Schools':school_types.iloc[2],\n",
    "                                     '# of Catholic Schools':school_types.iloc[1],\n",
    "                                     '# of Private Schools':school_types.iloc[0],\n",
    "                                     'City':'Vaughan'}, index=[0])\n",
    "vaughan_amenities_df = vaughan_amenities_df.set_index('City')\n",
    "vaughan_amenities_df"
   ],
   "metadata": {
    "collapsed": false,
    "ExecuteTime": {
     "end_time": "2023-12-14T01:00:34.253824Z",
     "start_time": "2023-12-14T01:00:34.240155Z"
    }
   },
   "id": "5fae06ed294ca233"
  },
  {
   "cell_type": "markdown",
   "source": [
    "# Amenities"
   ],
   "metadata": {
    "collapsed": false
   },
   "id": "8dd1ea0c44b0b0b1"
  },
  {
   "cell_type": "code",
   "execution_count": 43,
   "outputs": [
    {
     "name": "stdout",
     "output_type": "stream",
     "text": [
      "Latitude: 43.7963436\n",
      "Longitude: -79.60313070528753\n"
     ]
    }
   ],
   "source": [
    "# STEP 1: Where am I???\n",
    "# Set parameters to find coordinates\n",
    "city = \"Vaughan, ON\"\n",
    "q = {\n",
    "    \"apiKey\": geoapify_key,\n",
    "    \"city\": city\n",
    "}\n",
    "search_url = \"https://api.geoapify.com/v1/geocode/search\"\n",
    "search_combined = f\"{search_url}?text={city}&format=json\"\n",
    "response = requests.get(search_combined, params=q).json()\n",
    "lat = response['results'][0]['lat']\n",
    "long = response['results'][0]['lon']\n",
    "\n",
    "#print(combined_url)\n",
    "\n",
    "print(f'Latitude: {lat}')\n",
    "print(f'Longitude: {long}')\n"
   ],
   "metadata": {
    "collapsed": false,
    "ExecuteTime": {
     "end_time": "2023-12-14T00:31:01.685252Z",
     "start_time": "2023-12-14T00:30:59.867644Z"
    }
   },
   "id": "13aa3b0b2a6d5299"
  },
  {
   "cell_type": "code",
   "execution_count": 44,
   "outputs": [
    {
     "name": "stdout",
     "output_type": "stream",
     "text": [
      "251\n"
     ]
    }
   ],
   "source": [
    "places_url = \"https://api.geoapify.com/v2/places\"\n",
    "categories = 'leisure'\n",
    "radius = 6500\n",
    "limit=500\n",
    "params = {\n",
    "    \"categories\": categories,\n",
    "    \"apiKey\": geoapify_key,\n",
    "    \"limit\": limit,\n",
    "    \"radius\": radius\n",
    "}\n",
    "params[\"filter\"] = f'circle:{long},{lat},{radius}'\n",
    "params[\"bias\"] = f'proximity:{long},{lat}'\n",
    "leisure_dict = requests.get(places_url, params=params).json()\n",
    "\n",
    "leisure_types = []\n",
    "for feature in leisure_dict['features']:\n",
    "    leisure_info = feature['properties']['datasource']['raw']['osm_id']\n",
    "    if 'city' in feature['properties']:\n",
    "        leisure_cities = feature['properties']['city']\n",
    "        if leisure_cities == 'Vaughan':\n",
    "            leisure_types.append(leisure_info)\n",
    "\n",
    "leisure_count = len(leisure_types)\n",
    "\n",
    "pprint(leisure_count)"
   ],
   "metadata": {
    "collapsed": false,
    "ExecuteTime": {
     "end_time": "2023-12-14T00:31:05.876280Z",
     "start_time": "2023-12-14T00:31:01.689856Z"
    }
   },
   "id": "79c3fca3f6e6351d"
  },
  {
   "cell_type": "code",
   "execution_count": 45,
   "outputs": [
    {
     "data": {
      "text/plain": "         # of Public Schools  # of Catholic Schools  # of Private Schools  \\\nCity                                                                        \nVaughan                   41                     46                    46   \n\n         # of Leisure Spaces  \nCity                          \nVaughan                  251  ",
      "text/html": "<div>\n<style scoped>\n    .dataframe tbody tr th:only-of-type {\n        vertical-align: middle;\n    }\n\n    .dataframe tbody tr th {\n        vertical-align: top;\n    }\n\n    .dataframe thead th {\n        text-align: right;\n    }\n</style>\n<table border=\"1\" class=\"dataframe\">\n  <thead>\n    <tr style=\"text-align: right;\">\n      <th></th>\n      <th># of Public Schools</th>\n      <th># of Catholic Schools</th>\n      <th># of Private Schools</th>\n      <th># of Leisure Spaces</th>\n    </tr>\n    <tr>\n      <th>City</th>\n      <th></th>\n      <th></th>\n      <th></th>\n      <th></th>\n    </tr>\n  </thead>\n  <tbody>\n    <tr>\n      <th>Vaughan</th>\n      <td>41</td>\n      <td>46</td>\n      <td>46</td>\n      <td>251</td>\n    </tr>\n  </tbody>\n</table>\n</div>"
     },
     "execution_count": 45,
     "metadata": {},
     "output_type": "execute_result"
    }
   ],
   "source": [
    "#Adding to the df\n",
    "vaughan_amenities_df['# of Leisure Spaces'] = leisure_count\n",
    "vaughan_amenities_df"
   ],
   "metadata": {
    "collapsed": false,
    "ExecuteTime": {
     "end_time": "2023-12-14T00:31:07.867322Z",
     "start_time": "2023-12-14T00:31:07.862055Z"
    }
   },
   "id": "8c87b10acad65cd4"
  },
  {
   "cell_type": "code",
   "execution_count": 47,
   "outputs": [],
   "source": [
    "vaughan_amenities_df.to_csv('Output/vaughan_amenities_df.csv')"
   ],
   "metadata": {
    "collapsed": false,
    "ExecuteTime": {
     "end_time": "2023-12-14T00:31:58.782601Z",
     "start_time": "2023-12-14T00:31:58.775020Z"
    }
   },
   "id": "df2e841b3bb59ec1"
  }
 ],
 "metadata": {
  "kernelspec": {
   "display_name": "Python 3",
   "language": "python",
   "name": "python3"
  },
  "language_info": {
   "codemirror_mode": {
    "name": "ipython",
    "version": 2
   },
   "file_extension": ".py",
   "mimetype": "text/x-python",
   "name": "python",
   "nbconvert_exporter": "python",
   "pygments_lexer": "ipython2",
   "version": "2.7.6"
  }
 },
 "nbformat": 4,
 "nbformat_minor": 5
}
